{
 "cells": [
  {
   "cell_type": "markdown",
   "metadata": {},
   "source": [
    "# 机器学习基础"
   ]
  },
  {
   "cell_type": "code",
   "execution_count": 5,
   "metadata": {},
   "outputs": [],
   "source": [
    "import numpy as np\n",
    "import matplotlib.pyplot as plt\n",
    "dataSet = [[-0.017612,14.053064],[-1.395634,4.662541],[-0.752157,6.538620],[-1.322371,7.152853],[0.423363,11.054677],[0.406704,7.067335],[0.667394,12.741452],[-2.460150,6.866805]]\n"
   ]
  },
  {
   "cell_type": "code",
   "execution_count": 13,
   "metadata": {},
   "outputs": [
    {
     "data": {
      "text/plain": [
       "matrix([[-0.017612, -1.395634, -0.752157, -1.322371,  0.423363,\n",
       "          0.406704,  0.667394, -2.46015 ]])"
      ]
     },
     "execution_count": 13,
     "metadata": {},
     "output_type": "execute_result"
    }
   ],
   "source": [
    "from numpy import *\n",
    "dataMat = mat(dataSet).T  # 转换未numpy矩阵 并转置\n",
    "dataMat[0]"
   ]
  },
  {
   "cell_type": "code",
   "execution_count": 15,
   "metadata": {},
   "outputs": [
    {
     "data": {
      "image/png": "[encoded data removed]",
      "text/plain": [
       "<Figure size 432x288 with 1 Axes>"
      ]
     },
     "metadata": {},
     "output_type": "display_data"
    }
   ],
   "source": [
    "\n",
    "plt.scatter(dataMat[0].tolist(),dataMat[1].tolist(),c='red',marker='o')\n",
    "X = np.linspace(-2,2,10)\n",
    "Y = 2.8*X + 9\n",
    "plt.plot(X,Y)\n",
    "plt.show()"
   ]
  },
  {
   "cell_type": "code",
   "execution_count": 16,
   "metadata": {},
   "outputs": [
    {
     "name": "stdout",
     "output_type": "stream",
     "text": [
      "[[0. 0. 0. 0. 0.]\n",
      " [0. 0. 0. 0. 0.]\n",
      " [0. 0. 0. 0. 0.]]\n"
     ]
    }
   ],
   "source": [
    "myZero = np.zeros([3,5])\n",
    "print(myZero)"
   ]
  },
  {
   "cell_type": "code",
   "execution_count": 17,
   "metadata": {},
   "outputs": [
    {
     "name": "stdout",
     "output_type": "stream",
     "text": [
      "[[1. 1. 1. 1. 1.]\n",
      " [1. 1. 1. 1. 1.]\n",
      " [1. 1. 1. 1. 1.]]\n"
     ]
    }
   ],
   "source": [
    "myZero = np.ones([3,5])\n",
    "print(myZero)"
   ]
  },
  {
   "cell_type": "code",
   "execution_count": 20,
   "metadata": {},
   "outputs": [
    {
     "name": "stdout",
     "output_type": "stream",
     "text": [
      "[[0.20191275 0.74457215 0.18999128 0.81165178 0.42644373]\n",
      " [0.32896663 0.06316023 0.33594459 0.42824402 0.95778972]\n",
      " [0.90085115 0.5955519  0.15258789 0.17009579 0.91243914]]\n"
     ]
    }
   ],
   "source": [
    "myZero = np.random.rand(3,5)\n",
    "print(myZero)"
   ]
  },
  {
   "cell_type": "code",
   "execution_count": 24,
   "metadata": {},
   "outputs": [
    {
     "name": "stdout",
     "output_type": "stream",
     "text": [
      "[[2. 1. 1.]\n",
      " [1. 2. 1.]\n",
      " [1. 1. 2.]]\n",
      "[[0. 1. 1.]\n",
      " [1. 0. 1.]\n",
      " [1. 1. 0.]]\n"
     ]
    }
   ],
   "source": [
    "myOnes = np.ones([3,3])\n",
    "myEyes = np.eye(3)\n",
    "print(myOnes+myEyes)\n",
    "print(myOnes-myEyes)"
   ]
  },
  {
   "cell_type": "code",
   "execution_count": 25,
   "metadata": {},
   "outputs": [
    {
     "name": "stdout",
     "output_type": "stream",
     "text": [
      "[[10 20 30]\n",
      " [40 50 60]\n",
      " [70 80 90]]\n"
     ]
    }
   ],
   "source": [
    "mymatrix = mat([[1,2,3],[4,5,6],[7,8,9]])\n",
    "a = 10\n",
    "print(a*mymatrix)"
   ]
  },
  {
   "cell_type": "code",
   "execution_count": 27,
   "metadata": {},
   "outputs": [
    {
     "name": "stdout",
     "output_type": "stream",
     "text": [
      "45\n"
     ]
    }
   ],
   "source": [
    "print(sum(mymatrix))"
   ]
  },
  {
   "cell_type": "code",
   "execution_count": 28,
   "metadata": {},
   "outputs": [
    {
     "name": "stdout",
     "output_type": "stream",
     "text": [
      "[[ 1.5  3.   4.5]\n",
      " [ 6.   7.5  9. ]\n",
      " [10.5 12.  13.5]]\n"
     ]
    }
   ],
   "source": [
    "mymatrix2 = 1.5*ones([3,3])\n",
    "print(multiply(mymatrix,mymatrix2))"
   ]
  },
  {
   "cell_type": "code",
   "execution_count": 30,
   "metadata": {},
   "outputs": [
    {
     "name": "stdout",
     "output_type": "stream",
     "text": [
      "3,3\n"
     ]
    }
   ],
   "source": [
    "[m,n]=shape(mymatrix)\n",
    "print(\"{},{}\".format(m,n))"
   ]
  },
  {
   "cell_type": "code",
   "execution_count": 34,
   "metadata": {},
   "outputs": [
    {
     "name": "stdout",
     "output_type": "stream",
     "text": [
      "[[1 2 3]\n",
      " [4 5 6]\n",
      " [7 8 9]]\n",
      "[[1 4 7]\n",
      " [2 5 8]\n",
      " [3 6 9]]\n",
      "[[False  True  True]\n",
      " [False False  True]\n",
      " [False False False]]\n",
      "[[1 2 3]]\n",
      "[[2 5 8]]\n"
     ]
    }
   ],
   "source": [
    "myscl1 = mymatrix[0]\n",
    "myscl2 = mymatrix.T[1]\n",
    "print(mymatrix)\n",
    "print(mymatrix.T)\n",
    "print(mymatrix<mymatrix.T)\n",
    "\n",
    "print(myscl1)\n",
    "print(myscl2)"
   ]
  },
  {
   "cell_type": "markdown",
   "metadata": {},
   "source": [
    "## 1.2.5 线性代数书 行列式 逆 对称 秩 可逆矩阵？"
   ]
  },
  {
   "cell_type": "code",
   "execution_count": 3,
   "metadata": {},
   "outputs": [
    {
     "name": "stdout",
     "output_type": "stream",
     "text": [
      "10.04987562112089\n",
      "10.04987562112089\n"
     ]
    }
   ],
   "source": [
    "from numpy import *\n",
    "# 范数\n",
    "A = [8,1,6]\n",
    "modA = sqrt(sum(power(A,2)))\n",
    "normA = linalg.norm(A)\n",
    "print(modA)\n",
    "print(normA)"
   ]
  },
  {
   "cell_type": "code",
   "execution_count": 7,
   "metadata": {},
   "outputs": [
    {
     "name": "stdout",
     "output_type": "stream",
     "text": [
      "[[5.19615242]]\n",
      "5.196152422706632\n"
     ]
    }
   ],
   "source": [
    "# 欧式距离\n",
    "vector1 = mat([1,2,3])\n",
    "vector2 = mat([4,5,6])\n",
    "print(sqrt((vector1-vector2)*(vector1-vector2).T))\n",
    "print(sqrt(sum(power((vector1-vector2),2))))"
   ]
  },
  {
   "cell_type": "code",
   "execution_count": 8,
   "metadata": {},
   "outputs": [
    {
     "name": "stdout",
     "output_type": "stream",
     "text": [
      "9\n"
     ]
    }
   ],
   "source": [
    "#曼哈顿距离\n",
    "vector1 = mat([1,2,3])\n",
    "vector2 = mat([4,5,6])\n",
    "print(sum(abs(vector1-vector2)))"
   ]
  },
  {
   "cell_type": "code",
   "execution_count": 9,
   "metadata": {},
   "outputs": [
    {
     "name": "stdout",
     "output_type": "stream",
     "text": [
      "3\n"
     ]
    }
   ],
   "source": [
    "#切比雪夫距离\n",
    "vector1 = mat([1,2,3])\n",
    "vector2 = mat([4,5,6])\n",
    "print(abs(vector1-vector2).max())"
   ]
  },
  {
   "cell_type": "code",
   "execution_count": 13,
   "metadata": {},
   "outputs": [
    {
     "name": "stdout",
     "output_type": "stream",
     "text": [
      "0.9746318461970762\n"
     ]
    }
   ],
   "source": [
    "# 夹角余弦\n",
    "#cosV12 = dot(vector1,vector2)/(linalg.norm(vector1)*linalg.norm(vector2))\n",
    "vector1 = [1,2,3]\n",
    "vector2 = [4,5,6]\n",
    "cosV12 = dot(vector1,vector2)/(linalg.norm(vector1)*linalg.norm(vector2))\n",
    "print(cosV12)"
   ]
  },
  {
   "cell_type": "code",
   "execution_count": 17,
   "metadata": {},
   "outputs": [
    {
     "name": "stdout",
     "output_type": "stream",
     "text": [
      "6\n"
     ]
    }
   ],
   "source": [
    "# 汉明距离\n",
    "matv = mat([[1,1,0,1,0,1,0,0,1],[0,1,1,0,0,0,1,1,1]])\n",
    "smstr = nonzero(matv[0]-matv[1])\n",
    "print(shape(smstr[0])[0])"
   ]
  },
  {
   "cell_type": "code",
   "execution_count": 18,
   "metadata": {},
   "outputs": [
    {
     "name": "stdout",
     "output_type": "stream",
     "text": [
      "[0.75]\n"
     ]
    }
   ],
   "source": [
    "# 杰卡德相似系数\n",
    "import scipy.spatial.distance as dist\n",
    "matv = mat([[1,1,0,1,0,1,0,0,1],[0,1,1,0,0,0,1,1,1]])\n",
    "print(dist.pdist(matv,'jaccard'))"
   ]
  },
  {
   "cell_type": "markdown",
   "metadata": {},
   "source": [
    "## 特征间相关性"
   ]
  },
  {
   "cell_type": "code",
   "execution_count": 21,
   "metadata": {},
   "outputs": [
    {
     "name": "stdout",
     "output_type": "stream",
     "text": [
      "[[ 88.5   96.8  104.1  111.3  117.7  124.   130.   135.4  140.2  145.3\n",
      "  151.9  159.5  165.9  169.8  171.6  172.3  172.7 ]\n",
      " [ 12.54  14.65  16.64  18.98  21.26  24.06  27.33  30.46  33.74  37.69\n",
      "   42.49  48.08  53.37  57.08  59.35  60.68  61.4 ]]\n",
      "0.9816014257595663\n",
      "[[1.         0.98160143]\n",
      " [0.98160143 1.        ]]\n"
     ]
    }
   ],
   "source": [
    "featuremat = mat ([[88.5,96.8,104.1,111.3,117.7,124.0,130.0,135.4,140.2,145.3,151.9,159.5,165.9,169.8,171.6,172.3,172.7],\n",
    "                   [12.54,14.65,16.64,18.98,21.26,24.06,27.33,30.46,33.74,37.69,42.49,48.08,53.37,57.08,59.35,60.68,61.40]])\n",
    "# mat ?\n",
    "print(featuremat)\n",
    "mv1 = mean(featuremat[0])\n",
    "mv2 = mean(featuremat[1])\n",
    "dv1 = std(featuremat[0])\n",
    "dv2 = std(featuremat[1])\n",
    "corref = mean(multiply(featuremat[0]-mv1,featuremat[1]-mv2)/(dv1*dv2))\n",
    "print(corref)\n",
    "print(corrcoef(featuremat))"
   ]
  },
  {
   "cell_type": "code",
   "execution_count": 23,
   "metadata": {},
   "outputs": [
    {
     "name": "stdout",
     "output_type": "stream",
     "text": [
      "[[0.92966634]]\n"
     ]
    }
   ],
   "source": [
    "covinv = linalg.inv(cov(featuremat))\n",
    "tp = featuremat.T[0] - featuremat.T[1]\n",
    "distma = sqrt(dot(dot(tp,covinv),tp.T))\n",
    "print(distma)"
   ]
  },
  {
   "cell_type": "code",
   "execution_count": null,
   "metadata": {},
   "outputs": [],
   "source": []
  }
 ],
 "metadata": {
  "kernelspec": {
   "display_name": "Python 3",
   "language": "python",
   "name": "python3"
  },
  "language_info": {
   "codemirror_mode": {
    "name": "ipython",
    "version": 3
   },
   "file_extension": ".py",
   "mimetype": "text/x-python",
   "name": "python",
   "nbconvert_exporter": "python",
   "pygments_lexer": "ipython3",
   "version": "3.6.2"
  }
 },
 "nbformat": 4,
 "nbformat_minor": 2
}
